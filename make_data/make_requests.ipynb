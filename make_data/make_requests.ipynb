{
 "cells": [
  {
   "cell_type": "code",
   "execution_count": 1,
   "metadata": {},
   "outputs": [
    {
     "name": "stdout",
     "output_type": "stream",
     "text": [
      "Reading takes: 4.435631990432739s.\n",
      "Sliced trace stats: #functions: 72359, total invocations: 32862030, max: 4880144, min: 0, avg: 454.15\n"
     ]
    }
   ],
   "source": [
    "import sys\n",
    "sys.path.append('/home/zhangy/python_project/mms')  # 替换为 alpa_serve 的实际路径\n",
    "\n",
    "from alpa_serve.trace import Trace\n",
    "\n",
    "fixed_rate_scale = 2e-3\n",
    "fixed_cv_scale = 10\n",
    "trace_dir = \"/home/zhangy/data/datasets/azurefunctions-dataset2019/azure_v1.pkl\"\n",
    "model_set = [\"bert-6.7b\", \"moe-5.3b\", \"bert-2.6b\", \"moe-2.4b\", \"bert-1.3b\", \"moe-1.3b\"]\n",
    "fixed_num_modelset = 1\n",
    "model_types = model_set * fixed_num_modelset\n",
    "model_names = sum([[f\"{model_type}-{i}\" for model_type in model_set] for i in range(fixed_num_modelset)], [])\n",
    "\n",
    "arrival_process_kwargs = {\"rate_scale\": fixed_rate_scale,\n",
    "                          \"cv_scale\": fixed_cv_scale,\n",
    "                          \"trace_dir\": trace_dir}\n",
    "\n",
    "azure_v1_trace_dir = arrival_process_kwargs[\"trace_dir\"]\n",
    "azure_v1_trace = Trace(\"azure_v1\", azure_v1_trace_dir)\n",
    "train_replays = azure_v1_trace.replay(model_names,\n",
    "                                        model_mapping_strategy=\"stripe\",\n",
    "                                        arrival_distribution=\"gamma\",\n",
    "                                        start_time=\"0.0.0\",\n",
    "                                        end_time=\"0.1.0\",\n",
    "                                        interval_seconds=3600,\n",
    "                                        rate_scale_factor=arrival_process_kwargs[\"rate_scale\"],\n",
    "                                        cv_scale_factor=arrival_process_kwargs[\"cv_scale\"])"
   ]
  },
  {
   "cell_type": "code",
   "execution_count": 2,
   "metadata": {},
   "outputs": [
    {
     "name": "stdout",
     "output_type": "stream",
     "text": [
      "Trace for bert-6.7b-0, duration: (0, 1, 0, 0), 3600 (s), #arrivals: 9106, arrival distribution: gamma, generation interval: 3600, scale factor: (0.002, 10, 1.0, 1). overall rate: 2.53, overall cv: 9.23.\n",
      "Trace for moe-5.3b-0, duration: (0, 1, 0, 0), 3600 (s), #arrivals: 8148, arrival distribution: gamma, generation interval: 3600, scale factor: (0.002, 10, 1.0, 1). overall rate: 2.26, overall cv: 10.24.\n",
      "Trace for bert-2.6b-0, duration: (0, 1, 0, 0), 3600 (s), #arrivals: 10199, arrival distribution: gamma, generation interval: 3600, scale factor: (0.002, 10, 1.0, 1). overall rate: 2.83, overall cv: 10.23.\n",
      "Trace for moe-2.4b-0, duration: (0, 1, 0, 0), 3600 (s), #arrivals: 10711, arrival distribution: gamma, generation interval: 3600, scale factor: (0.002, 10, 1.0, 1). overall rate: 2.98, overall cv: 9.01.\n",
      "Trace for bert-1.3b-0, duration: (0, 1, 0, 0), 3600 (s), #arrivals: 11536, arrival distribution: gamma, generation interval: 3600, scale factor: (0.002, 10, 1.0, 1). overall rate: 3.20, overall cv: 10.59.\n",
      "Trace for moe-1.3b-0, duration: (0, 1, 0, 0), 3600 (s), #arrivals: 15678, arrival distribution: gamma, generation interval: 3600, scale factor: (0.002, 10, 1.0, 1). overall rate: 4.36, overall cv: 9.07.\n"
     ]
    }
   ],
   "source": [
    "for replay in train_replays:\n",
    "    train_replays[replay].report_stats()\n",
    "    train_replays[replay].visualize()"
   ]
  },
  {
   "cell_type": "code",
   "execution_count": 32,
   "metadata": {},
   "outputs": [],
   "source": [
    "from alpa_serve.simulator.workload import Workload, GammaProcess\n",
    "from collections import OrderedDict\n",
    "from alpa_serve.trace import Trace, TraceReplay\n",
    "import numpy as np\n",
    "\n",
    "rate_distribution = \"power_law\"\n",
    "arrival_process = \"gamma\"\n",
    "arrival_process_kwargs = {\"cv\": 4}\n",
    "total_rate = 20\n",
    "duration = 3600\n",
    "interval_seconds = 600\n",
    "\n",
    "# 设置峰值率和基础率\n",
    "peak_rate = 2  # 峰值期间的请求率\n",
    "base_rate = 0.2  # 其他时间的基础请求率\n",
    "\n",
    "fixed_num_devices = 32\n",
    "fixed_num_modelset = 1\n",
    "fixed_slo_scale = 5\n",
    "\n",
    "model_set = [\"bert-6.7b\", \"moe-5.3b\", \"bert-2.6b\", \"moe-2.4b\", \"bert-1.3b\", \"moe-1.3b\"]\n",
    "model_types = model_set * fixed_num_modelset\n",
    "model_names = sum([[f\"{model_type}-{i}\" for model_type in model_set] for i in range(fixed_num_modelset)], [])\n",
    "\n",
    "num_models = len(model_names)\n",
    "\n",
    "# 定义到达过程\n",
    "arrival_processes = []\n",
    "if rate_distribution == \"power_law\":\n",
    "    alpha = 1\n",
    "    s = sum((x+1)**(-alpha) for x in range(num_models))\n",
    "    base = total_rate / s\n",
    "    rates = [base * ((x+1) ** (-alpha)) for x in range(num_models)]\n",
    "if arrival_process == \"gamma\":\n",
    "    for i in range(num_models):\n",
    "        # 设置波峰的时间段（例如：100-200秒和300-400秒）\n",
    "        num_intervals = duration // interval_seconds\n",
    "        # 随机选择波峰的时间段\n",
    "        peak_times = np.random.choice(num_intervals, 2, replace=False)\n",
    "        distribution = []\n",
    "        for t in range(duration // interval_seconds):\n",
    "            if t in peak_times:\n",
    "                rate = peak_rate * rates[i]\n",
    "            else:\n",
    "                rate = base_rate * rates[i]\n",
    "            distribution.append(GammaProcess(rate, arrival_process_kwargs[\"cv\"]))\n",
    "        arrival_processes.append(distribution)\n",
    "\n",
    "replays = OrderedDict()\n",
    "start_time = \"0.0.0\"\n",
    "end_time = f\"0.{int(duration / 3600)}.0\"\n",
    "start_d, start_h, start_m = Trace.timestr_to_dhm(start_time)\n",
    "end_d, end_h, end_m = Trace.timestr_to_dhm(end_time)\n",
    "start_timestamp_seconds = start_d * 24 * 60 * 60 + start_h * 60 * 60 + start_m * 60\n",
    "end_timestamp_seconds = end_d * 24 * 60 * 60 + end_h * 60 * 60 + end_m * 60\n",
    "\n",
    "seed = 0\n",
    "for m in range(len(arrival_processes)):\n",
    "    arrivals = []\n",
    "    arrival_distribution_params = []\n",
    "    for i, distribution in enumerate(arrival_processes[m]):\n",
    "        if distribution is None:\n",
    "            arrival_distribution_params.append(None)\n",
    "            continue\n",
    "        start = i * interval_seconds + start_timestamp_seconds\n",
    "        arrivals.extend(distribution.generate_arrivals(start, interval_seconds, seed))\n",
    "        # if DEBUG:\n",
    "        #     arrivals.extend(distribution.generate_arrivals(0, 1.0e9, seed))\n",
    "        #     self.visualize_inter_arrival(np.array(arrivals), \"test\")\n",
    "        arrival_distribution_params.append(distribution.params())\n",
    "        seed += 1\n",
    "    replays[model_names[m]] = TraceReplay(model_names[m],\n",
    "                             np.array(arrivals),\n",
    "                             \"synthetic\",\n",
    "                             start_time,\n",
    "                             end_time,\n",
    "                             interval_seconds,\n",
    "                             arrival_distribution=\"power_law\",\n",
    "                             arrival_distribution_params=arrival_distribution_params)"
   ]
  },
  {
   "cell_type": "code",
   "execution_count": 33,
   "metadata": {},
   "outputs": [
    {
     "name": "stdout",
     "output_type": "stream",
     "text": [
      "Trace for bert-6.7b-0, duration: (0, 1, 0, 0), 3600 (s), #arrivals: 22606, arrival distribution: power_law, generation interval: 600, scale factor: (1.0, 1.0, 1.0, 1). overall rate: 6.28, overall cv: 6.17.\n",
      "Trace for moe-5.3b-0, duration: (0, 1, 0, 0), 3600 (s), #arrivals: 12663, arrival distribution: power_law, generation interval: 600, scale factor: (1.0, 1.0, 1.0, 1). overall rate: 3.52, overall cv: 6.92.\n",
      "Trace for bert-2.6b-0, duration: (0, 1, 0, 0), 3600 (s), #arrivals: 8048, arrival distribution: power_law, generation interval: 600, scale factor: (1.0, 1.0, 1.0, 1). overall rate: 2.24, overall cv: 6.38.\n",
      "Trace for moe-2.4b-0, duration: (0, 1, 0, 0), 3600 (s), #arrivals: 5811, arrival distribution: power_law, generation interval: 600, scale factor: (1.0, 1.0, 1.0, 1). overall rate: 1.61, overall cv: 6.99.\n",
      "Trace for bert-1.3b-0, duration: (0, 1, 0, 0), 3600 (s), #arrivals: 4729, arrival distribution: power_law, generation interval: 600, scale factor: (1.0, 1.0, 1.0, 1). overall rate: 1.31, overall cv: 5.83.\n",
      "Trace for moe-1.3b-0, duration: (0, 1, 0, 0), 3600 (s), #arrivals: 3626, arrival distribution: power_law, generation interval: 600, scale factor: (1.0, 1.0, 1.0, 1). overall rate: 1.01, overall cv: 5.96.\n"
     ]
    }
   ],
   "source": [
    "for replay in replays:\n",
    "    replays[replay].report_stats()\n",
    "    replays[replay].visualize()"
   ]
  },
  {
   "cell_type": "code",
   "execution_count": null,
   "metadata": {},
   "outputs": [],
   "source": []
  }
 ],
 "metadata": {
  "kernelspec": {
   "display_name": "alpa",
   "language": "python",
   "name": "python3"
  },
  "language_info": {
   "codemirror_mode": {
    "name": "ipython",
    "version": 3
   },
   "file_extension": ".py",
   "mimetype": "text/x-python",
   "name": "python",
   "nbconvert_exporter": "python",
   "pygments_lexer": "ipython3",
   "version": "3.8.19"
  }
 },
 "nbformat": 4,
 "nbformat_minor": 2
}
